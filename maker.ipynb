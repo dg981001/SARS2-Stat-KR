{
 "cells": [
  {
   "cell_type": "code",
   "execution_count": 1,
   "metadata": {},
   "outputs": [],
   "source": [
    "from util.table import table\n",
    "from util.region import *\n",
    "from util.Daegu import Daegu\n",
    "from util.Incheon import Incheon  \n",
    "from util.Daejeon import Daejeon\n",
    "# from util.Gangwon import Gangwon\n",
    "from util.Seoul import Seoul\n",
    "from util.KST import kst_time\n",
    "from util.collector import collector"
   ]
  },
  {
   "cell_type": "code",
   "execution_count": 2,
   "metadata": {},
   "outputs": [],
   "source": [
    "from IPython.display import display, Markdown, Latex"
   ]
  },
  {
   "cell_type": "code",
   "execution_count": 3,
   "metadata": {},
   "outputs": [],
   "source": [
    "chart = table()"
   ]
  },
  {
   "cell_type": "code",
   "execution_count": 4,
   "metadata": {},
   "outputs": [],
   "source": [
    "regions = [Seoul().collect, \n",
    "               Daegu().collect,    \n",
    "               busan,   \n",
    "               Daejeon().collect,\n",
    "               gwangju,\n",
    "               ulsan,\n",
    "               Incheon().collect,\n",
    "               incheon,\n",
    "               sejong,\n",
    "               gyeongbuk,\n",
    "               gyeongnam,\n",
    "               gyeonggi, \n",
    "               chungbuk,\n",
    "               chungnam,\n",
    "               gangwon,\n",
    "               jeonbuk,\n",
    "               jeonnam,\n",
    "               jeju,\n",
    "               foreign,\n",
    "        ]"
   ]
  },
  {
   "cell_type": "code",
   "execution_count": 5,
   "metadata": {},
   "outputs": [
    {
     "output_type": "stream",
     "name": "stdout",
     "text": "# 강남구 : 59\n# 강동구 : 13\n# 강북구 : 5\n# 강서구 : 25\nSome characters could not be decoded, and were replaced with REPLACEMENT CHARACTER.\n# 관악구 : 42\n# 광진구 : 5\n# 구로구 : 35\n# 금천구 : 12\n# 노원구 : 25\n# 도봉구 : 9\n# 동대문구 : 31\n# 동작구 : 31\n# 마포구 : 21\n# 서대문구 : 18\n# 서초구 : 29\n# 성동구 : 19\n# 성북구 : 21\n# 송파구 : 37\n# 양천구 : 21\n# 영등포구 : 28\n# 용산구 : 12\n# 은평구 : 28\n# 종로구 : 16\n# 중구 : 5\n# 중랑구 : 16\n# 기타 : 42\npass :  서울\n#  북구 :  788\n#  달서구 :  1606\n#  남구 :  1360\n#  서구 :  538\n#  수성구 :  1056\n#  중구 :  249\n#  동구 :  686\n#  달성군 :  669\npass :  대구\npass :  부산\n동구 : 2\n중구 : 0\n서구 : 15\n유성구 : 19\n대덕구 : 3\npass :  광주\npass :  울산\npass :  인천\npass :  세종\npass :  경상북도\npass :  경상남도\npass :  경기도\npass :  충청북도\npass :  충청남도\npass :  강원도\npass :  전라북도\npass : 전라남도\npass : 제주도\npass :  검역\n"
    }
   ],
   "source": [
    "data = collector(regions)"
   ]
  },
  {
   "cell_type": "code",
   "execution_count": 6,
   "metadata": {},
   "outputs": [
    {
     "output_type": "stream",
     "name": "stdout",
     "text": "Save\n"
    },
    {
     "output_type": "display_data",
     "data": {
      "text/plain": "<IPython.core.display.Markdown object>",
      "text/markdown": "\n\n|  지역  | 확진자 |  격리자  |  사망  |  의심환자  |  검사중  |  결과음성  |  자가격리자  |  감시중  |  감시해제  |  퇴원  |\n|:------:|:------:|:--------:|:--------:|:----------:|:--------:|:----------------:|:------------:|:--------:|:----------:|:--:|\n|**총합**|**10,059**|**2,832**|**224**|**175,595**|**7,947**|**212,897**|**59,159**|**7,285**|**43,374**|**7,602**|\n|서울|605|367|2|96,012|5,348|90,664|44,209|3,072|23,069|238|\n|대구|6,952|1,228|151|-|-|-|2,856|-|-|5,573|\n|부산|126|16|3|-|-|-|-|-|-|107|\n|대전|39|14|0|-|121|10,959|956|70|886|25|\n|광주|28|7|-|10,470|55|10,387|1,209|7|1,202|21|\n|울산|41|7|1|9,499|60|9,439|4,495|997|3,498|34|\n|인천|88|88|-|27,345|274|27,071|-|-|-|-|\n|세종|46|25|-|-|-|-|384|-|-|21|\n|경상북도|1,348|269|54|-|498|11|-|662|11,713|981|\n|경상남도|111|33|-|17,383|278|17,105|-|-|-|78|\n|경기도|5|303|13|-|-|-|-|-|-|329|\n|충청북도|45|11|-|14,886|119|14,767|3,679|1,260|2,419|34|\n|충청남도|139|24|0|-|390|22,110|84|-|-|115|\n|강원도|52|25|-|-|237|-|1,287|-|-|27|\n|전라북도|17|8|-|-|-|-|-|-|-|9|\n|전라남도|15|14|-|-|504|10,384|-|1,217|587|1|\n|제주도|13|8|0|-|63|-|0|-|-|5|\n|검역|389|385|-|-|-|-|-|-|-|4|\n|**총합**|**10,059**|**2,832**|**224**|**175,595**|**7,947**|**212,897**|**59,159**|**7,285**|**43,374**|**7,602**|\n\n"
     },
     "metadata": {}
    }
   ],
   "source": [
    "display(Markdown('''\n",
    "{}\n",
    "'''.format(chart.generate(data))))"
   ]
  },
  {
   "cell_type": "code",
   "execution_count": 7,
   "metadata": {},
   "outputs": [],
   "source": [
    "readme = open('README.md', mode='wt', encoding='utf-8')\n",
    "readme.write('''\n",
    "## 중공 바이러스[CCP Virus](SARS-CoV-2) 대한민국 확진자 통계\n",
    "### Confirmed cases of China-Virus in Korea\n",
    "{0} KST\n",
    "\n",
    "각 **시/도/구/군청** 사이트에 공개되어 있는 **공식 자료**를 수합하여 만든 통계입니다.\n",
    "질병관리본부에서 발표되는 공식 수치와는 다를 수 있습니다.\n",
    "\n",
    "{1}\n",
    "\n",
    "** 부산, 경상남도 홈페이지에 표시된 수치가 질병관리본부 발표보다 적습니다. **<br>\n",
    "#1 확진자(중국인) 제외\n",
    "'''.format(kst_time(), chart.Chart))\n",
    "readme.close()"
   ]
  },
  {
   "cell_type": "code",
   "execution_count": null,
   "metadata": {},
   "outputs": [],
   "source": [
    "#region_list = [seoul(), \n",
    "#               Daegu().collect(),    \n",
    "#               busan(),   \n",
    "#               daejeon(),\n",
    "#               gwangju(infected=13, quarantine=9, self_quarantine=1, care=3),\n",
    "#               ulsan(),\n",
    "#               incheon(),\n",
    "#               sejong(),\n",
    "#               gyeongbuk(),\n",
    "#               gyeongnam(),\n",
    "#               gyeonggi(), \n",
    "#               chungbuk(),\n",
    "#               chungnam(),\n",
    "#               gangwon(),\n",
    "#               jeonbuk(),\n",
    "#               jeonnam(),\n",
    "#               jeju(),\n",
    "#        ]"
   ]
  },
  {
   "cell_type": "code",
   "execution_count": null,
   "metadata": {},
   "outputs": [],
   "source": []
  }
 ],
 "metadata": {
  "kernelspec": {
   "display_name": "Python 3",
   "language": "python",
   "name": "python3"
  },
  "language_info": {
   "codemirror_mode": {
    "name": "ipython",
    "version": 3
   },
   "file_extension": ".py",
   "mimetype": "text/x-python",
   "name": "python",
   "nbconvert_exporter": "python",
   "pygments_lexer": "ipython3",
   "version": "3.7.6-final"
  }
 },
 "nbformat": 4,
 "nbformat_minor": 4
}
